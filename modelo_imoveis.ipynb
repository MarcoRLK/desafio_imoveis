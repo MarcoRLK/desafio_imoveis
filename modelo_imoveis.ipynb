{
  "nbformat": 4,
  "nbformat_minor": 0,
  "metadata": {
    "colab": {
      "name": "modelo_imoveis.ipynb",
      "version": "0.3.2",
      "provenance": [],
      "collapsed_sections": [
        "wD1xi9GwXjZ0",
        "I9iiKdPXz_aL",
        "dP6HlDLN9hJd"
      ]
    },
    "kernelspec": {
      "name": "python3",
      "display_name": "Python 3"
    },
    "accelerator": "GPU"
  },
  "cells": [
    {
      "cell_type": "code",
      "metadata": {
        "id": "iFQac2wr-LNy",
        "colab_type": "code",
        "colab": {}
      },
      "source": [
        "import numpy as np\n",
        "import matplotlib.pyplot as plt\n",
        "import pandas as pd\n",
        "import seaborn as sns\n",
        "import math\n",
        "from pickle import Pickler, Unpickler"
      ],
      "execution_count": 0,
      "outputs": []
    },
    {
      "cell_type": "code",
      "metadata": {
        "id": "vAIR83pK-xmT",
        "colab_type": "code",
        "outputId": "543eaa2c-4a49-4015-a1da-63ac2c135526",
        "colab": {
          "base_uri": "https://localhost:8080/",
          "height": 120
        }
      },
      "source": [
        "from google.colab import drive\n",
        "drive.mount(\"/content/gdrive\", force_remount=True)"
      ],
      "execution_count": 2,
      "outputs": [
        {
          "output_type": "stream",
          "text": [
            "Go to this URL in a browser: https://accounts.google.com/o/oauth2/auth?client_id=947318989803-6bn6qk8qdgf4n4g3pfee6491hc0brc4i.apps.googleusercontent.com&redirect_uri=urn%3Aietf%3Awg%3Aoauth%3A2.0%3Aoob&scope=email%20https%3A%2F%2Fwww.googleapis.com%2Fauth%2Fdocs.test%20https%3A%2F%2Fwww.googleapis.com%2Fauth%2Fdrive%20https%3A%2F%2Fwww.googleapis.com%2Fauth%2Fdrive.photos.readonly%20https%3A%2F%2Fwww.googleapis.com%2Fauth%2Fpeopleapi.readonly&response_type=code\n",
            "\n",
            "Enter your authorization code:\n",
            "··········\n",
            "Mounted at /content/gdrive\n"
          ],
          "name": "stdout"
        }
      ]
    },
    {
      "cell_type": "code",
      "metadata": {
        "id": "D64VUJKt-ZiK",
        "colab_type": "code",
        "colab": {}
      },
      "source": [
        "root_path = \"gdrive/My Drive/Colab Notebooks/\"\n",
        "df = Unpickler(open(root_path + \"dataset/imoves_df\", 'rb')).load()"
      ],
      "execution_count": 0,
      "outputs": []
    },
    {
      "cell_type": "markdown",
      "metadata": {
        "id": "PodeC9BRR_HH",
        "colab_type": "text"
      },
      "source": [
        "## Normalizando dados"
      ]
    },
    {
      "cell_type": "code",
      "metadata": {
        "id": "IUHYASaaSNwg",
        "colab_type": "code",
        "colab": {}
      },
      "source": [
        "from sklearn.preprocessing import MinMaxScaler\n",
        "\n",
        "sc = MinMaxScaler(feature_range = (0, 1))\n",
        "\n",
        "X = df.drop(['SalePrice'], axis=1)\n",
        "y = df['SalePrice'].tolist()\n",
        "\n",
        "X = sc.fit_transform(X)"
      ],
      "execution_count": 0,
      "outputs": []
    },
    {
      "cell_type": "markdown",
      "metadata": {
        "id": "M2Rzt8LPSIES",
        "colab_type": "text"
      },
      "source": [
        "## Separando teste de treino"
      ]
    },
    {
      "cell_type": "code",
      "metadata": {
        "id": "Rk_ko9xOSNTF",
        "colab_type": "code",
        "colab": {}
      },
      "source": [
        "from sklearn.model_selection import train_test_split\n",
        "\n",
        "X_train, X_test, y_train, y_test = train_test_split(X,y, test_size=0.33, random_state=42)"
      ],
      "execution_count": 0,
      "outputs": []
    },
    {
      "cell_type": "markdown",
      "metadata": {
        "id": "vosZCWuIygyO",
        "colab_type": "text"
      },
      "source": [
        "# Modelagem"
      ]
    },
    {
      "cell_type": "markdown",
      "metadata": {
        "id": "sEW0eh6aR3s2",
        "colab_type": "text"
      },
      "source": [
        "## SGD"
      ]
    },
    {
      "cell_type": "code",
      "metadata": {
        "id": "7ZSZcyrrR7va",
        "colab_type": "code",
        "colab": {}
      },
      "source": [
        "from sklearn.linear_model import SGDRegressor\n",
        "from sklearn.metrics import r2_score, mean_squared_error"
      ],
      "execution_count": 0,
      "outputs": []
    },
    {
      "cell_type": "code",
      "metadata": {
        "id": "DXqTYaR3U0kf",
        "colab_type": "code",
        "outputId": "9f8f75bf-1a3e-4f60-fc64-6577a82703f0",
        "colab": {
          "base_uri": "https://localhost:8080/",
          "height": 116
        }
      },
      "source": [
        "sgd = SGDRegressor()\n",
        "\n",
        "sgd.fit(X_train, y_train)"
      ],
      "execution_count": 7,
      "outputs": [
        {
          "output_type": "execute_result",
          "data": {
            "text/plain": [
              "SGDRegressor(alpha=0.0001, average=False, early_stopping=False, epsilon=0.1,\n",
              "             eta0=0.01, fit_intercept=True, l1_ratio=0.15,\n",
              "             learning_rate='invscaling', loss='squared_loss', max_iter=1000,\n",
              "             n_iter_no_change=5, penalty='l2', power_t=0.25, random_state=None,\n",
              "             shuffle=True, tol=0.001, validation_fraction=0.1, verbose=0,\n",
              "             warm_start=False)"
            ]
          },
          "metadata": {
            "tags": []
          },
          "execution_count": 7
        }
      ]
    },
    {
      "cell_type": "code",
      "metadata": {
        "id": "44jAwQBIVBgD",
        "colab_type": "code",
        "outputId": "a0549809-f9d3-49d9-b3b1-db12d801ad7e",
        "colab": {
          "base_uri": "https://localhost:8080/",
          "height": 50
        }
      },
      "source": [
        "## testando e avaliando\n",
        "\n",
        "predict = sgd.predict(X_test)\n",
        "print(r2_score(y_test, predict))\n",
        "print(mean_squared_error(y_test, predict))"
      ],
      "execution_count": 19,
      "outputs": [
        {
          "output_type": "stream",
          "text": [
            "0.8396181155583652\n",
            "1177426180.835401\n"
          ],
          "name": "stdout"
        }
      ]
    },
    {
      "cell_type": "markdown",
      "metadata": {
        "id": "wD1xi9GwXjZ0",
        "colab_type": "text"
      },
      "source": [
        "### Refinando hiperparâmetros"
      ]
    },
    {
      "cell_type": "code",
      "metadata": {
        "id": "zF1Hb_QbXlwY",
        "colab_type": "code",
        "colab": {}
      },
      "source": [
        "from sklearn.model_selection import GridSearchCV"
      ],
      "execution_count": 0,
      "outputs": []
    },
    {
      "cell_type": "code",
      "metadata": {
        "id": "EoMit7biamJN",
        "colab_type": "code",
        "colab": {}
      },
      "source": [
        "params = {'loss': ['squared_loss', 'huber', 'epsilon_insensitive', 'squared_epsilon_insensitive'],\n",
        "         'penalty': ['none', 'l1', 'l2', 'elasticnet'],\n",
        "         'alpha': [1e-4, 1e-2, 1],\n",
        "         'fit_intercept': [True, False],\n",
        "         'tol': [1e-3, 1e-2, 1],\n",
        "         'learning_rate':  ['constant', 'optimal', 'invscaling', 'adaptive'],\n",
        "        }"
      ],
      "execution_count": 0,
      "outputs": []
    },
    {
      "cell_type": "code",
      "metadata": {
        "id": "gsBPz-oOc0cn",
        "colab_type": "code",
        "colab": {}
      },
      "source": [
        "# gs = GridSearchCV(sgd, params, scoring='r2')"
      ],
      "execution_count": 0,
      "outputs": []
    },
    {
      "cell_type": "code",
      "metadata": {
        "id": "jP9cV-pEdC_u",
        "colab_type": "code",
        "colab": {}
      },
      "source": [
        "gs.fit(X_train, y_train)"
      ],
      "execution_count": 0,
      "outputs": []
    },
    {
      "cell_type": "code",
      "metadata": {
        "id": "dF1uHLMZdLf9",
        "colab_type": "code",
        "outputId": "c5545d86-486f-4ed6-d377-946b8bbd539a",
        "colab": {
          "base_uri": "https://localhost:8080/",
          "height": 50
        }
      },
      "source": [
        "print(gs.best_score_)\n",
        "print(gs.best_params_)"
      ],
      "execution_count": 0,
      "outputs": [
        {
          "output_type": "stream",
          "text": [
            "0.8187601203468228\n",
            "{'alpha': 0.01, 'fit_intercept': False, 'learning_rate': 'invscaling', 'loss': 'squared_loss', 'penalty': 'l2', 'tol': 0.001}\n"
          ],
          "name": "stdout"
        }
      ]
    },
    {
      "cell_type": "markdown",
      "metadata": {
        "id": "6T41T_Ffdfkm",
        "colab_type": "text"
      },
      "source": [
        "### Testando novos hiperparâmetros"
      ]
    },
    {
      "cell_type": "code",
      "metadata": {
        "id": "pqozJOqtdeQj",
        "colab_type": "code",
        "outputId": "7ed0fc87-2aa8-45dd-f62f-f1b4e23f1bfa",
        "colab": {
          "base_uri": "https://localhost:8080/",
          "height": 50
        }
      },
      "source": [
        "sgd2 = SGDRegressor(alpha = 0.01, fit_intercept=False, learning_rate='invscaling', loss='squared_loss', penalty='l2', tol=0.001)\n",
        "sgd2.fit(X_train, y_train)\n",
        "predict = sgd2.predict(X_test)\n",
        "print(r2_score(y_test, predict))\n",
        "print(mean_squared_error(y_test, predict))"
      ],
      "execution_count": 20,
      "outputs": [
        {
          "output_type": "stream",
          "text": [
            "0.83023929542099\n",
            "1246279769.964481\n"
          ],
          "name": "stdout"
        }
      ]
    },
    {
      "cell_type": "markdown",
      "metadata": {
        "id": "k4Cuq6iSwju2",
        "colab_type": "text"
      },
      "source": [
        "## Lasso"
      ]
    },
    {
      "cell_type": "code",
      "metadata": {
        "colab_type": "code",
        "id": "l6EKj6g3wmSa",
        "colab": {}
      },
      "source": [
        "from sklearn.linear_model import Lasso"
      ],
      "execution_count": 0,
      "outputs": []
    },
    {
      "cell_type": "code",
      "metadata": {
        "colab_type": "code",
        "outputId": "75bb210c-32b6-4792-d60e-1fd4868b5e98",
        "id": "aGAUNzU0wmSd",
        "colab": {
          "base_uri": "https://localhost:8080/",
          "height": 50
        }
      },
      "source": [
        "lass = Lasso(max_iter=2000)\n",
        "\n",
        "lass.fit(X_train, y_train)\n",
        "\n",
        "## testando e avaliando\n",
        "\n",
        "predict = lass.predict(X_test)\n",
        "print(r2_score(y_test, predict))\n",
        "print(mean_squared_error(y_test, predict))"
      ],
      "execution_count": 21,
      "outputs": [
        {
          "output_type": "stream",
          "text": [
            "0.8763878438949542\n",
            "907485214.8938252\n"
          ],
          "name": "stdout"
        }
      ]
    },
    {
      "cell_type": "markdown",
      "metadata": {
        "id": "I9iiKdPXz_aL",
        "colab_type": "text"
      },
      "source": [
        "### Refinando hiperparâmetros"
      ]
    },
    {
      "cell_type": "code",
      "metadata": {
        "colab_type": "code",
        "id": "DuViXalYz8zo",
        "colab": {}
      },
      "source": [
        "params = {'alpha': [0.01, 0.02, 0.05, 0.07, 1.0],\n",
        "         'fit_intercept': [True, False],\n",
        "         'normalize': [True, False],\n",
        "         'max_iter': [3000],\n",
        "         'tol': [1e-4, 1e-3, 1],\n",
        "         'selection':  ['random', 'cyclic'],\n",
        "        }"
      ],
      "execution_count": 0,
      "outputs": []
    },
    {
      "cell_type": "code",
      "metadata": {
        "colab_type": "code",
        "id": "xVoLEqaoz8zq",
        "colab": {}
      },
      "source": [
        "# from sklearn.model_selection import GridSearchCV\n",
        "gs = GridSearchCV(lass, params, scoring='neg_mean_squared_error', cv=5)\n",
        "gs.fit(X_train, y_train)"
      ],
      "execution_count": 0,
      "outputs": []
    },
    {
      "cell_type": "code",
      "metadata": {
        "colab_type": "code",
        "outputId": "e7c3b016-9c32-4ad5-a3ec-acf2e6d6bc70",
        "id": "aawqcCWJz8z1",
        "colab": {
          "base_uri": "https://localhost:8080/",
          "height": 50
        }
      },
      "source": [
        "print(gs.best_score_)\n",
        "print(gs.best_params_)"
      ],
      "execution_count": 0,
      "outputs": [
        {
          "output_type": "stream",
          "text": [
            "-1427853697.6005933\n",
            "{'alpha': 1.0, 'fit_intercept': True, 'max_iter': 3000, 'normalize': True, 'selection': 'random', 'tol': 0.0001}\n"
          ],
          "name": "stdout"
        }
      ]
    },
    {
      "cell_type": "markdown",
      "metadata": {
        "colab_type": "text",
        "id": "nb3Fj6vX3vXL"
      },
      "source": [
        "### Testando novos hiperparâmetros"
      ]
    },
    {
      "cell_type": "code",
      "metadata": {
        "colab_type": "code",
        "outputId": "dd29f269-8339-4ef4-8329-cc2aebddaf68",
        "id": "io0qC4GH3vXM",
        "colab": {
          "base_uri": "https://localhost:8080/",
          "height": 50
        }
      },
      "source": [
        "lass2 = Lasso(alpha = 1.0, fit_intercept=True, max_iter=3000, normalize=True, selection='random', tol=0.0001)\n",
        "lass2.fit(X_train, y_train)\n",
        "predict = lass2.predict(X_test)\n",
        "print(r2_score(y_test, predict))\n",
        "print(mean_squared_error(y_test, predict))"
      ],
      "execution_count": 23,
      "outputs": [
        {
          "output_type": "stream",
          "text": [
            "0.8802841040239788\n",
            "878881244.4439807\n"
          ],
          "name": "stdout"
        }
      ]
    },
    {
      "cell_type": "markdown",
      "metadata": {
        "id": "Fa4F5H6y9SyL",
        "colab_type": "text"
      },
      "source": [
        "## ElasticNet"
      ]
    },
    {
      "cell_type": "code",
      "metadata": {
        "id": "KtLqyydq9XvC",
        "colab_type": "code",
        "colab": {}
      },
      "source": [
        "from sklearn.linear_model import ElasticNet"
      ],
      "execution_count": 0,
      "outputs": []
    },
    {
      "cell_type": "code",
      "metadata": {
        "colab_type": "code",
        "outputId": "b50859f7-3c52-4c2a-be75-e27f919c53ef",
        "id": "hl77nht59hJW",
        "colab": {
          "base_uri": "https://localhost:8080/",
          "height": 50
        }
      },
      "source": [
        "en = ElasticNet()\n",
        "\n",
        "en.fit(X_train, y_train)\n",
        "\n",
        "## testando e avaliando\n",
        "\n",
        "predict = en.predict(X_test)\n",
        "print(r2_score(y_test, predict))\n",
        "print(mean_squared_error(y_test, predict))"
      ],
      "execution_count": 24,
      "outputs": [
        {
          "output_type": "stream",
          "text": [
            "0.6291949126114433\n",
            "2722225265.018186\n"
          ],
          "name": "stdout"
        }
      ]
    },
    {
      "cell_type": "markdown",
      "metadata": {
        "colab_type": "text",
        "id": "dP6HlDLN9hJd"
      },
      "source": [
        "### Refinando hiperparâmetros"
      ]
    },
    {
      "cell_type": "code",
      "metadata": {
        "colab_type": "code",
        "id": "jii6s-TP9hJe",
        "colab": {}
      },
      "source": [
        "params = {'alpha':[0.1, 0.5, 1.0, 1.5],\n",
        "          'l1_ratio':[0.5, 0.2, 0.1, 0.8, 1.0],\n",
        "          'fit_intercept':[True, False],\n",
        "          'normalize':[True, False],\n",
        "          'precompute':[True, False],\n",
        "          'max_iter':[3000],\n",
        "          'copy_X':[True, False],\n",
        "          'tol':[0.0001],\n",
        "          'positive':[True, False],\n",
        "          'selection':['cyclic', 'random'], \n",
        "        }"
      ],
      "execution_count": 0,
      "outputs": []
    },
    {
      "cell_type": "code",
      "metadata": {
        "colab_type": "code",
        "id": "HeWRjCpx9hJj",
        "colab": {}
      },
      "source": [
        "# from sklearn.model_selection import GridSearchCV\n",
        "gs = GridSearchCV(en, params, scoring='neg_mean_squared_error', cv=5)\n",
        "gs.fit(X_train, y_train)"
      ],
      "execution_count": 0,
      "outputs": []
    },
    {
      "cell_type": "code",
      "metadata": {
        "colab_type": "code",
        "outputId": "f6341155-a735-4608-c1bd-fb84cbc9f795",
        "id": "MHJ9hh5I9hJo",
        "colab": {
          "base_uri": "https://localhost:8080/",
          "height": 70
        }
      },
      "source": [
        "print(gs.best_score_)\n",
        "print(gs.best_params_)"
      ],
      "execution_count": 0,
      "outputs": [
        {
          "output_type": "stream",
          "text": [
            "0.8283745564564697\n",
            "{'alpha': 0.1, 'copy_X': True, 'fit_intercept': False, 'l1_ratio': 0.8, 'max_iter': 3000, 'normalize': True, 'positive': False, 'precompute': False, 'selection': 'cyclic', 'tol': 0.0001}\n"
          ],
          "name": "stdout"
        }
      ]
    },
    {
      "cell_type": "markdown",
      "metadata": {
        "colab_type": "text",
        "id": "aXb-sfN09hJs"
      },
      "source": [
        "### Testando novos hiperparâmetros"
      ]
    },
    {
      "cell_type": "code",
      "metadata": {
        "colab_type": "code",
        "outputId": "e5ff9c34-39bc-4bde-ad27-7c2bacbf600a",
        "id": "ekX748Qt9hJt",
        "colab": {
          "base_uri": "https://localhost:8080/",
          "height": 103
        }
      },
      "source": [
        "en2 = ElasticNet(alpha = 0.1, fit_intercept=False, l1_ratio = 0.8, max_iter=3000, normalize=True, positive=False, selection='cyclic', tol=0.0001)\n",
        "en2.fit(X_train, y_train)\n",
        "predict = en2.predict(X_test)\n",
        "print(r2_score(y_test, predict))\n",
        "print(mean_squared_error(y_test, predict))"
      ],
      "execution_count": 25,
      "outputs": [
        {
          "output_type": "stream",
          "text": [
            "0.8248585569454807\n",
            "1285781876.922193\n"
          ],
          "name": "stdout"
        },
        {
          "output_type": "stream",
          "text": [
            "/usr/local/lib/python3.6/dist-packages/sklearn/linear_model/coordinate_descent.py:475: ConvergenceWarning: Objective did not converge. You might want to increase the number of iterations. Duality gap: 484266688084.08386, tolerance: 3772619776.7556\n",
            "  positive)\n"
          ],
          "name": "stderr"
        }
      ]
    },
    {
      "cell_type": "markdown",
      "metadata": {
        "id": "IWslRO_0scOF",
        "colab_type": "text"
      },
      "source": [
        "# Validação cruzada dos modelos"
      ]
    },
    {
      "cell_type": "code",
      "metadata": {
        "id": "mUVtb_wP9cy-",
        "colab_type": "code",
        "colab": {}
      },
      "source": [
        "from sklearn.model_selection import cross_val_score"
      ],
      "execution_count": 0,
      "outputs": []
    },
    {
      "cell_type": "code",
      "metadata": {
        "id": "7J30g_6_q7MY",
        "colab_type": "code",
        "colab": {}
      },
      "source": [
        "scores_sgd2 = cross_val_score(sgd2, X, y, cv=10, scoring='r2')\n",
        "scores_lass = cross_val_score(lass2, X, y, cv=10, scoring='r2')\n",
        "scores_elastic = cross_val_score(en2, X, y, cv=10, scoring='r2')"
      ],
      "execution_count": 0,
      "outputs": []
    },
    {
      "cell_type": "code",
      "metadata": {
        "id": "YqO0B472q_04",
        "colab_type": "code",
        "colab": {
          "base_uri": "https://localhost:8080/",
          "height": 66
        },
        "outputId": "2eab6eb2-f64a-4a0e-ca47-8b7a566eec8a"
      },
      "source": [
        "print(\"R2 do SGD: \" + str(np.mean(scores_sgd2)) + \"    +/- \" + str(round(np.std(scores_sgd2), 2)))\n",
        "print(\"R2 do Lasso: \" + str(np.mean(scores_lass))+ \"    +/- \" + str(round(np.std(scores_lass), 2)))\n",
        "print(\"R2 do ElasticNet: \" + str(np.mean(scores_elastic))+ \"    +/- \" + str(round(np.std(scores_elastic), 2)))"
      ],
      "execution_count": 49,
      "outputs": [
        {
          "output_type": "stream",
          "text": [
            "R2 do SGD: 0.850055265864777    +/- 0.06\n",
            "R2 do Lasso: 0.8125677143214762    +/- 0.14\n",
            "R2 do ElasticNet: 0.8458553953328913    +/- 0.06\n"
          ],
          "name": "stdout"
        }
      ]
    },
    {
      "cell_type": "code",
      "metadata": {
        "id": "1pyJYur_rxXP",
        "colab_type": "code",
        "colab": {}
      },
      "source": [
        ""
      ],
      "execution_count": 0,
      "outputs": []
    }
  ]
}